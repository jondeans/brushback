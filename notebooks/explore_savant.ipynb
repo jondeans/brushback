{
 "cells": [
  {
   "cell_type": "markdown",
   "metadata": {
    "collapsed": false
   },
   "source": [
    "# Explore BaseballSavant\n"
   ]
  },
  {
   "cell_type": "code",
   "execution_count": 1,
   "metadata": {
    "collapsed": false,
    "ExecuteTime": {
     "end_time": "2023-10-30T19:54:41.977807Z",
     "start_time": "2023-10-30T19:54:41.720129Z"
    }
   },
   "outputs": [],
   "source": [
    "from urllib.parse import urljoin\n",
    "\n",
    "import requests\n",
    "import pandas as pd"
   ]
  },
  {
   "cell_type": "code",
   "execution_count": 2,
   "metadata": {
    "collapsed": false,
    "ExecuteTime": {
     "end_time": "2023-10-30T21:17:46.981618Z",
     "start_time": "2023-10-30T21:17:46.959324Z"
    }
   },
   "outputs": [],
   "source": [
    "URL = \"https://baseballsavant.mlb.com/\"\n",
    "ENDPOINT = \"gamefeed\"\n",
    "PARAMS = {\"gamePk\": 717187}"
   ]
  },
  {
   "cell_type": "code",
   "execution_count": 3,
   "metadata": {
    "ExecuteTime": {
     "end_time": "2023-10-30T21:17:49.372982Z",
     "start_time": "2023-10-30T21:17:48.978899Z"
    }
   },
   "outputs": [],
   "source": [
    "r = requests.get(\n",
    "    urljoin(URL, ENDPOINT),\n",
    "    params=PARAMS\n",
    ")"
   ]
  },
  {
   "cell_type": "code",
   "execution_count": 6,
   "outputs": [
    {
     "data": {
      "text/plain": "200"
     },
     "execution_count": 6,
     "metadata": {},
     "output_type": "execute_result"
    }
   ],
   "source": [
    "\n",
    "r.status_code\n"
   ],
   "metadata": {
    "collapsed": false,
    "ExecuteTime": {
     "end_time": "2023-10-30T21:18:18.561841Z",
     "start_time": "2023-10-30T21:18:18.530694Z"
    }
   }
  },
  {
   "cell_type": "code",
   "execution_count": 7,
   "outputs": [],
   "source": [
    "ENDPOINT = \"gf\"\n",
    "PARAMS = {\n",
    "    \"game_date_gt\": \"2023-08-11\"\n",
    "}"
   ],
   "metadata": {
    "collapsed": false,
    "ExecuteTime": {
     "end_time": "2023-10-30T21:18:23.567196Z",
     "start_time": "2023-10-30T21:18:23.562911Z"
    }
   }
  },
  {
   "cell_type": "code",
   "execution_count": 8,
   "outputs": [],
   "source": [
    "r = requests.get(\n",
    "    urljoin(URL, ENDPOINT),\n",
    "    params=PARAMS\n",
    ")"
   ],
   "metadata": {
    "collapsed": false,
    "ExecuteTime": {
     "end_time": "2023-10-30T21:18:24.521704Z",
     "start_time": "2023-10-30T21:18:24.267049Z"
    }
   }
  },
  {
   "cell_type": "code",
   "execution_count": 9,
   "outputs": [
    {
     "data": {
      "text/plain": "{'error': 'Invalid Game PK.'}"
     },
     "execution_count": 9,
     "metadata": {},
     "output_type": "execute_result"
    }
   ],
   "source": [
    "j = r.json()\n",
    "j"
   ],
   "metadata": {
    "collapsed": false,
    "ExecuteTime": {
     "end_time": "2023-10-30T21:18:26.184428Z",
     "start_time": "2023-10-30T21:18:26.180146Z"
    }
   }
  },
  {
   "cell_type": "code",
   "execution_count": 10,
   "outputs": [
    {
     "name": "stdout",
     "output_type": "stream",
     "text": [
      "error Invalid Game PK.\n"
     ]
    }
   ],
   "source": [
    "for k in j.keys():\n",
    "    if not isinstance(j[k], dict):\n",
    "        print(k, j[k])"
   ],
   "metadata": {
    "collapsed": false,
    "ExecuteTime": {
     "end_time": "2023-10-30T21:18:30.886908Z",
     "start_time": "2023-10-30T21:18:30.872946Z"
    }
   }
  },
  {
   "cell_type": "code",
   "execution_count": 42,
   "outputs": [
    {
     "data": {
      "text/plain": "'redis hit'"
     },
     "execution_count": 42,
     "metadata": {},
     "output_type": "execute_result"
    }
   ],
   "source": [
    "j[\"cache_hit\"]"
   ],
   "metadata": {
    "collapsed": false,
    "ExecuteTime": {
     "end_time": "2023-08-07T04:59:03.105415Z",
     "start_time": "2023-08-07T04:59:03.017199Z"
    }
   }
  },
  {
   "cell_type": "code",
   "execution_count": null,
   "outputs": [],
   "source": [
    "keys = [\n",
    "    \"game_status_code\",\n",
    "    \"game_status\",\n",
    "    \"gamedayType\",\n",
    "    \"gameDate\",\n",
    "    \"venue_id\",\n",
    "    \"team_home_id\",\n",
    "    \"team_away_id\",\n",
    "    \"game_date\",\n",
    "    \"players\",\n",
    "    \"away_lineup\",\n",
    "    \"home_lineup\",\n",
    "    \"away_pitcher_lineup\",\n",
    "    \"home_pitcher_lineup\",\n",
    "    \"cacheKey\",\n",
    "    \"cache_hit\",\n",
    "]\n",
    "\n",
    "multi_keys = [\n",
    "    \"scoreboard\",\n",
    "    \"home_team_data\",\n",
    "    \"away_team_data\",\n",
    "    \"team_home\",\n",
    "    \"team_away\",\n",
    "    \"home_pitchers\",\n",
    "    \"away_batters\",\n",
    "    \"home_batters\",\n",
    "    \"away_pitchers\",\n",
    "    \"exit_velocity\",\n",
    "    \"boxscore\",\n",
    "]"
   ],
   "metadata": {
    "collapsed": false
   }
  }
 ],
 "metadata": {
  "kernelspec": {
   "display_name": "Python 3 (ipykernel)",
   "language": "python",
   "name": "python3"
  },
  "language_info": {
   "codemirror_mode": {
    "name": "ipython",
    "version": 3
   },
   "file_extension": ".py",
   "mimetype": "text/x-python",
   "name": "python",
   "nbconvert_exporter": "python",
   "pygments_lexer": "ipython3",
   "version": "3.11.4"
  }
 },
 "nbformat": 4,
 "nbformat_minor": 4
}
